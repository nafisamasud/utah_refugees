{
 "cells": [
  {
   "cell_type": "markdown",
   "metadata": {},
   "source": [
    "## Nafisa's Refugee Piece\n",
    "http://journalism.frontanalytics.com/2017/11/28/the-utah-refugees/  \n",
    "https://github.com/nafisamasud/utah_refugees"
   ]
  },
  {
   "cell_type": "code",
   "execution_count": 1,
   "metadata": {
    "collapsed": true
   },
   "outputs": [],
   "source": [
    "import pandas as pd\n",
    "import random\n",
    "import csv"
   ]
  },
  {
   "cell_type": "code",
   "execution_count": 2,
   "metadata": {},
   "outputs": [
    {
     "name": "stdout",
     "output_type": "stream",
     "text": [
      "(12486, 8)\n"
     ]
    }
   ],
   "source": [
    "df = pd.read_csv('utah_refugees/data/raw_data.csv')\n",
    "print(df.shape)"
   ]
  },
  {
   "cell_type": "code",
   "execution_count": 3,
   "metadata": {},
   "outputs": [
    {
     "data": {
      "text/html": [
       "<div>\n",
       "<style>\n",
       "    .dataframe thead tr:only-child th {\n",
       "        text-align: right;\n",
       "    }\n",
       "\n",
       "    .dataframe thead th {\n",
       "        text-align: left;\n",
       "    }\n",
       "\n",
       "    .dataframe tbody tr th {\n",
       "        vertical-align: top;\n",
       "    }\n",
       "</style>\n",
       "<table border=\"1\" class=\"dataframe\">\n",
       "  <thead>\n",
       "    <tr style=\"text-align: right;\">\n",
       "      <th></th>\n",
       "      <th>FY of Arrival</th>\n",
       "      <th>CY of Arrival</th>\n",
       "      <th>CY of birth</th>\n",
       "      <th>Age at Arrival</th>\n",
       "      <th>Gender</th>\n",
       "      <th>Country of Birth</th>\n",
       "      <th>Arrival From</th>\n",
       "      <th>Nativity/Culture</th>\n",
       "    </tr>\n",
       "  </thead>\n",
       "  <tbody>\n",
       "    <tr>\n",
       "      <th>833</th>\n",
       "      <td>2017</td>\n",
       "      <td>2017</td>\n",
       "      <td>1997</td>\n",
       "      <td>20</td>\n",
       "      <td>NaN</td>\n",
       "      <td>SY</td>\n",
       "      <td>JO</td>\n",
       "      <td>SY</td>\n",
       "    </tr>\n",
       "    <tr>\n",
       "      <th>1197</th>\n",
       "      <td>2016</td>\n",
       "      <td>2016</td>\n",
       "      <td>1984</td>\n",
       "      <td>32</td>\n",
       "      <td>NaN</td>\n",
       "      <td>CT</td>\n",
       "      <td>DC</td>\n",
       "      <td>CT</td>\n",
       "    </tr>\n",
       "    <tr>\n",
       "      <th>3679</th>\n",
       "      <td>2014</td>\n",
       "      <td>2014</td>\n",
       "      <td>1989</td>\n",
       "      <td>24</td>\n",
       "      <td>M</td>\n",
       "      <td>BM</td>\n",
       "      <td>NaN</td>\n",
       "      <td>BM</td>\n",
       "    </tr>\n",
       "    <tr>\n",
       "      <th>4679</th>\n",
       "      <td>2014</td>\n",
       "      <td>2014</td>\n",
       "      <td>1981</td>\n",
       "      <td>33</td>\n",
       "      <td>M</td>\n",
       "      <td>SU</td>\n",
       "      <td>NaN</td>\n",
       "      <td>SU</td>\n",
       "    </tr>\n",
       "    <tr>\n",
       "      <th>4706</th>\n",
       "      <td>2014</td>\n",
       "      <td>2014</td>\n",
       "      <td>1992</td>\n",
       "      <td>22</td>\n",
       "      <td>M</td>\n",
       "      <td>SU</td>\n",
       "      <td>NaN</td>\n",
       "      <td>SU</td>\n",
       "    </tr>\n",
       "  </tbody>\n",
       "</table>\n",
       "</div>"
      ],
      "text/plain": [
       "      FY of Arrival  CY of Arrival CY of birth Age at Arrival Gender  \\\n",
       "833            2017           2017        1997             20    NaN   \n",
       "1197           2016           2016        1984             32    NaN   \n",
       "3679           2014           2014        1989             24      M   \n",
       "4679           2014           2014        1981             33      M   \n",
       "4706           2014           2014        1992             22      M   \n",
       "\n",
       "     Country of Birth Arrival From Nativity/Culture  \n",
       "833                SY           JO               SY  \n",
       "1197               CT           DC               CT  \n",
       "3679               BM          NaN               BM  \n",
       "4679               SU          NaN               SU  \n",
       "4706               SU          NaN               SU  "
      ]
     },
     "execution_count": 3,
     "metadata": {},
     "output_type": "execute_result"
    }
   ],
   "source": [
    "# There are quite a few (~104 null rows)\n",
    "df[df.isnull().any(axis=1)].head()"
   ]
  },
  {
   "cell_type": "code",
   "execution_count": 4,
   "metadata": {
    "collapsed": true
   },
   "outputs": [],
   "source": [
    "# Drop the duplicates\n",
    "df = df.dropna()"
   ]
  },
  {
   "cell_type": "code",
   "execution_count": 5,
   "metadata": {
    "scrolled": true
   },
   "outputs": [
    {
     "data": {
      "text/plain": [
       "(12385, 8)"
      ]
     },
     "execution_count": 5,
     "metadata": {},
     "output_type": "execute_result"
    }
   ],
   "source": [
    "df.shape"
   ]
  },
  {
   "cell_type": "code",
   "execution_count": 6,
   "metadata": {
    "collapsed": true
   },
   "outputs": [],
   "source": [
    "# read in the lookup table\n",
    "lookup_df = pd.read_csv('utah_refugees/data/lookup_table.csv')"
   ]
  },
  {
   "cell_type": "code",
   "execution_count": 7,
   "metadata": {
    "collapsed": true,
    "scrolled": true
   },
   "outputs": [],
   "source": [
    "lookup_dict = lookup_df.to_dict(orient='index')"
   ]
  },
  {
   "cell_type": "code",
   "execution_count": 8,
   "metadata": {
    "collapsed": true
   },
   "outputs": [],
   "source": [
    "new_lookup = {}\n",
    "for k, v in lookup_dict.items():\n",
    "    nk = v['Code']\n",
    "    nd = v['Description']\n",
    "    new_lookup[nk] = nd"
   ]
  },
  {
   "cell_type": "code",
   "execution_count": 9,
   "metadata": {
    "collapsed": true
   },
   "outputs": [],
   "source": [
    "# why is this in there?\n",
    "del new_lookup['FY']"
   ]
  },
  {
   "cell_type": "code",
   "execution_count": 10,
   "metadata": {
    "scrolled": true
   },
   "outputs": [
    {
     "data": {
      "text/html": [
       "<div>\n",
       "<style>\n",
       "    .dataframe thead tr:only-child th {\n",
       "        text-align: right;\n",
       "    }\n",
       "\n",
       "    .dataframe thead th {\n",
       "        text-align: left;\n",
       "    }\n",
       "\n",
       "    .dataframe tbody tr th {\n",
       "        vertical-align: top;\n",
       "    }\n",
       "</style>\n",
       "<table border=\"1\" class=\"dataframe\">\n",
       "  <thead>\n",
       "    <tr style=\"text-align: right;\">\n",
       "      <th></th>\n",
       "      <th>FY of Arrival</th>\n",
       "      <th>CY of Arrival</th>\n",
       "      <th>CY of birth</th>\n",
       "      <th>Age at Arrival</th>\n",
       "      <th>Gender</th>\n",
       "      <th>Country of Birth</th>\n",
       "      <th>Arrival From</th>\n",
       "      <th>Nativity/Culture</th>\n",
       "    </tr>\n",
       "  </thead>\n",
       "  <tbody>\n",
       "    <tr>\n",
       "      <th>0</th>\n",
       "      <td>2017</td>\n",
       "      <td>2017</td>\n",
       "      <td>2010</td>\n",
       "      <td>7</td>\n",
       "      <td>M</td>\n",
       "      <td>AF</td>\n",
       "      <td>AF</td>\n",
       "      <td>AF</td>\n",
       "    </tr>\n",
       "    <tr>\n",
       "      <th>1</th>\n",
       "      <td>2017</td>\n",
       "      <td>2017</td>\n",
       "      <td>1986</td>\n",
       "      <td>31</td>\n",
       "      <td>M</td>\n",
       "      <td>AF</td>\n",
       "      <td>AF</td>\n",
       "      <td>AF</td>\n",
       "    </tr>\n",
       "    <tr>\n",
       "      <th>2</th>\n",
       "      <td>2017</td>\n",
       "      <td>2017</td>\n",
       "      <td>1987</td>\n",
       "      <td>30</td>\n",
       "      <td>F</td>\n",
       "      <td>AF</td>\n",
       "      <td>AF</td>\n",
       "      <td>AF</td>\n",
       "    </tr>\n",
       "    <tr>\n",
       "      <th>3</th>\n",
       "      <td>2017</td>\n",
       "      <td>2017</td>\n",
       "      <td>2012</td>\n",
       "      <td>5</td>\n",
       "      <td>F</td>\n",
       "      <td>AF</td>\n",
       "      <td>AF</td>\n",
       "      <td>AF</td>\n",
       "    </tr>\n",
       "    <tr>\n",
       "      <th>4</th>\n",
       "      <td>2017</td>\n",
       "      <td>2017</td>\n",
       "      <td>1984</td>\n",
       "      <td>33</td>\n",
       "      <td>M</td>\n",
       "      <td>AF</td>\n",
       "      <td>AF</td>\n",
       "      <td>AF</td>\n",
       "    </tr>\n",
       "  </tbody>\n",
       "</table>\n",
       "</div>"
      ],
      "text/plain": [
       "   FY of Arrival  CY of Arrival CY of birth Age at Arrival Gender  \\\n",
       "0           2017           2017        2010              7      M   \n",
       "1           2017           2017        1986             31      M   \n",
       "2           2017           2017        1987             30      F   \n",
       "3           2017           2017        2012              5      F   \n",
       "4           2017           2017        1984             33      M   \n",
       "\n",
       "  Country of Birth Arrival From Nativity/Culture  \n",
       "0               AF           AF               AF  \n",
       "1               AF           AF               AF  \n",
       "2               AF           AF               AF  \n",
       "3               AF           AF               AF  \n",
       "4               AF           AF               AF  "
      ]
     },
     "execution_count": 10,
     "metadata": {},
     "output_type": "execute_result"
    }
   ],
   "source": [
    "df.head()"
   ]
  },
  {
   "cell_type": "code",
   "execution_count": 11,
   "metadata": {
    "collapsed": true
   },
   "outputs": [],
   "source": [
    "# Map on longer descriptions of countries\n",
    "df['Country of Birth_long'] = df['Country of Birth'].map(new_lookup)\n",
    "df['Arrival From_long'] = df['Arrival From'].map(new_lookup)\n",
    "df['Nativity/Culture_long'] = df['Nativity/Culture'].map(new_lookup)"
   ]
  },
  {
   "cell_type": "code",
   "execution_count": 12,
   "metadata": {},
   "outputs": [
    {
     "data": {
      "text/html": [
       "<div>\n",
       "<style>\n",
       "    .dataframe thead tr:only-child th {\n",
       "        text-align: right;\n",
       "    }\n",
       "\n",
       "    .dataframe thead th {\n",
       "        text-align: left;\n",
       "    }\n",
       "\n",
       "    .dataframe tbody tr th {\n",
       "        vertical-align: top;\n",
       "    }\n",
       "</style>\n",
       "<table border=\"1\" class=\"dataframe\">\n",
       "  <thead>\n",
       "    <tr style=\"text-align: right;\">\n",
       "      <th></th>\n",
       "      <th>FY of Arrival</th>\n",
       "      <th>CY of Arrival</th>\n",
       "      <th>CY of birth</th>\n",
       "      <th>Age at Arrival</th>\n",
       "      <th>Gender</th>\n",
       "      <th>Country of Birth</th>\n",
       "      <th>Arrival From</th>\n",
       "      <th>Nativity/Culture</th>\n",
       "      <th>Country of Birth_long</th>\n",
       "      <th>Arrival From_long</th>\n",
       "      <th>Nativity/Culture_long</th>\n",
       "    </tr>\n",
       "  </thead>\n",
       "  <tbody>\n",
       "    <tr>\n",
       "      <th>0</th>\n",
       "      <td>2017</td>\n",
       "      <td>2017</td>\n",
       "      <td>2010</td>\n",
       "      <td>7</td>\n",
       "      <td>M</td>\n",
       "      <td>AF</td>\n",
       "      <td>AF</td>\n",
       "      <td>AF</td>\n",
       "      <td>Afghanistan</td>\n",
       "      <td>Afghanistan</td>\n",
       "      <td>Afghanistan</td>\n",
       "    </tr>\n",
       "    <tr>\n",
       "      <th>1</th>\n",
       "      <td>2017</td>\n",
       "      <td>2017</td>\n",
       "      <td>1986</td>\n",
       "      <td>31</td>\n",
       "      <td>M</td>\n",
       "      <td>AF</td>\n",
       "      <td>AF</td>\n",
       "      <td>AF</td>\n",
       "      <td>Afghanistan</td>\n",
       "      <td>Afghanistan</td>\n",
       "      <td>Afghanistan</td>\n",
       "    </tr>\n",
       "    <tr>\n",
       "      <th>2</th>\n",
       "      <td>2017</td>\n",
       "      <td>2017</td>\n",
       "      <td>1987</td>\n",
       "      <td>30</td>\n",
       "      <td>F</td>\n",
       "      <td>AF</td>\n",
       "      <td>AF</td>\n",
       "      <td>AF</td>\n",
       "      <td>Afghanistan</td>\n",
       "      <td>Afghanistan</td>\n",
       "      <td>Afghanistan</td>\n",
       "    </tr>\n",
       "    <tr>\n",
       "      <th>3</th>\n",
       "      <td>2017</td>\n",
       "      <td>2017</td>\n",
       "      <td>2012</td>\n",
       "      <td>5</td>\n",
       "      <td>F</td>\n",
       "      <td>AF</td>\n",
       "      <td>AF</td>\n",
       "      <td>AF</td>\n",
       "      <td>Afghanistan</td>\n",
       "      <td>Afghanistan</td>\n",
       "      <td>Afghanistan</td>\n",
       "    </tr>\n",
       "    <tr>\n",
       "      <th>4</th>\n",
       "      <td>2017</td>\n",
       "      <td>2017</td>\n",
       "      <td>1984</td>\n",
       "      <td>33</td>\n",
       "      <td>M</td>\n",
       "      <td>AF</td>\n",
       "      <td>AF</td>\n",
       "      <td>AF</td>\n",
       "      <td>Afghanistan</td>\n",
       "      <td>Afghanistan</td>\n",
       "      <td>Afghanistan</td>\n",
       "    </tr>\n",
       "  </tbody>\n",
       "</table>\n",
       "</div>"
      ],
      "text/plain": [
       "   FY of Arrival  CY of Arrival CY of birth Age at Arrival Gender  \\\n",
       "0           2017           2017        2010              7      M   \n",
       "1           2017           2017        1986             31      M   \n",
       "2           2017           2017        1987             30      F   \n",
       "3           2017           2017        2012              5      F   \n",
       "4           2017           2017        1984             33      M   \n",
       "\n",
       "  Country of Birth Arrival From Nativity/Culture Country of Birth_long  \\\n",
       "0               AF           AF               AF           Afghanistan   \n",
       "1               AF           AF               AF           Afghanistan   \n",
       "2               AF           AF               AF           Afghanistan   \n",
       "3               AF           AF               AF           Afghanistan   \n",
       "4               AF           AF               AF           Afghanistan   \n",
       "\n",
       "  Arrival From_long Nativity/Culture_long  \n",
       "0       Afghanistan           Afghanistan  \n",
       "1       Afghanistan           Afghanistan  \n",
       "2       Afghanistan           Afghanistan  \n",
       "3       Afghanistan           Afghanistan  \n",
       "4       Afghanistan           Afghanistan  "
      ]
     },
     "execution_count": 12,
     "metadata": {},
     "output_type": "execute_result"
    }
   ],
   "source": [
    "df.head()"
   ]
  },
  {
   "cell_type": "markdown",
   "metadata": {},
   "source": [
    "#### Calculate the percentage of all immigrants, by year, by country, by gender"
   ]
  },
  {
   "cell_type": "code",
   "execution_count": 13,
   "metadata": {
    "collapsed": true,
    "scrolled": true
   },
   "outputs": [],
   "source": [
    "# Group it so we have a by year, by gender, by country df\n",
    "yr_cnt = df.groupby(['CY of Arrival', 'Gender', 'Country of Birth'])['Nativity/Culture'].agg('count')\n",
    "final = yr_cnt.groupby(level=[0, 1]).apply(lambda x: x / float(x.sum()))"
   ]
  },
  {
   "cell_type": "code",
   "execution_count": 14,
   "metadata": {
    "collapsed": true
   },
   "outputs": [],
   "source": [
    "# Get a unique set of all used countries in the dataset\n",
    "all_countries = set(df['Country of Birth'].tolist() + df['Arrival From'].tolist() \n",
    "                    + df['Nativity/Culture'].tolist())"
   ]
  },
  {
   "cell_type": "code",
   "execution_count": 15,
   "metadata": {
    "collapsed": true
   },
   "outputs": [],
   "source": [
    "final_df = pd.DataFrame(final)\n",
    "groups = final_df.groupby(['CY of Arrival', 'Gender'])"
   ]
  },
  {
   "cell_type": "markdown",
   "metadata": {},
   "source": [
    "#### Adding in missing countries"
   ]
  },
  {
   "cell_type": "code",
   "execution_count": 16,
   "metadata": {
    "collapsed": true,
    "scrolled": false
   },
   "outputs": [],
   "source": [
    "# Not all years, genders have all the countries. If we don't have them all, the viz breaks\n",
    "# Here we add in all the missing countries to each group\n",
    "output = []\n",
    "cols = ['CY of Arrival', 'Gender', 'Country of Birth', 'Nativity/Culture']\n",
    "for _, group in groups:\n",
    "    year = _[0]\n",
    "    gender = _[1]\n",
    "    g = group.reset_index()\n",
    "    these_countries = g['Country of Birth'].tolist()\n",
    "    missing = [c for c in all_countries if c not in these_countries]\n",
    "    blanks = pd.concat([pd.DataFrame([{'CY of Arrival': year, 'Gender': gender,\n",
    "                   'Country of Birth': i, 'Nativity/Culture': 0.0}]) for i in missing], ignore_index=True)\n",
    "    g = pd.concat([g, blanks])\n",
    "    output.append(g.reset_index())"
   ]
  },
  {
   "cell_type": "code",
   "execution_count": 17,
   "metadata": {
    "collapsed": true
   },
   "outputs": [],
   "source": [
    "# Compile all the groups\n",
    "lengthend_df = pd.concat(output)"
   ]
  },
  {
   "cell_type": "code",
   "execution_count": 18,
   "metadata": {},
   "outputs": [
    {
     "data": {
      "text/html": [
       "<div>\n",
       "<style>\n",
       "    .dataframe thead tr:only-child th {\n",
       "        text-align: right;\n",
       "    }\n",
       "\n",
       "    .dataframe thead th {\n",
       "        text-align: left;\n",
       "    }\n",
       "\n",
       "    .dataframe tbody tr th {\n",
       "        vertical-align: top;\n",
       "    }\n",
       "</style>\n",
       "<table border=\"1\" class=\"dataframe\">\n",
       "  <thead>\n",
       "    <tr style=\"text-align: right;\">\n",
       "      <th></th>\n",
       "      <th>index</th>\n",
       "      <th>CY of Arrival</th>\n",
       "      <th>Country of Birth</th>\n",
       "      <th>Gender</th>\n",
       "      <th>Nativity/Culture</th>\n",
       "    </tr>\n",
       "  </thead>\n",
       "  <tbody>\n",
       "    <tr>\n",
       "      <th>0</th>\n",
       "      <td>0</td>\n",
       "      <td>2006</td>\n",
       "      <td>AJ</td>\n",
       "      <td>F</td>\n",
       "      <td>0.018182</td>\n",
       "    </tr>\n",
       "    <tr>\n",
       "      <th>1</th>\n",
       "      <td>1</td>\n",
       "      <td>2006</td>\n",
       "      <td>BM</td>\n",
       "      <td>F</td>\n",
       "      <td>0.054545</td>\n",
       "    </tr>\n",
       "    <tr>\n",
       "      <th>2</th>\n",
       "      <td>2</td>\n",
       "      <td>2006</td>\n",
       "      <td>CU</td>\n",
       "      <td>F</td>\n",
       "      <td>0.200000</td>\n",
       "    </tr>\n",
       "    <tr>\n",
       "      <th>3</th>\n",
       "      <td>3</td>\n",
       "      <td>2006</td>\n",
       "      <td>HA</td>\n",
       "      <td>F</td>\n",
       "      <td>0.036364</td>\n",
       "    </tr>\n",
       "    <tr>\n",
       "      <th>4</th>\n",
       "      <td>4</td>\n",
       "      <td>2006</td>\n",
       "      <td>ID</td>\n",
       "      <td>F</td>\n",
       "      <td>0.018182</td>\n",
       "    </tr>\n",
       "  </tbody>\n",
       "</table>\n",
       "</div>"
      ],
      "text/plain": [
       "   index  CY of Arrival Country of Birth Gender  Nativity/Culture\n",
       "0      0           2006               AJ      F          0.018182\n",
       "1      1           2006               BM      F          0.054545\n",
       "2      2           2006               CU      F          0.200000\n",
       "3      3           2006               HA      F          0.036364\n",
       "4      4           2006               ID      F          0.018182"
      ]
     },
     "execution_count": 18,
     "metadata": {},
     "output_type": "execute_result"
    }
   ],
   "source": [
    "lengthend_df.head()"
   ]
  },
  {
   "cell_type": "code",
   "execution_count": 19,
   "metadata": {
    "collapsed": true
   },
   "outputs": [],
   "source": [
    "lengthend_df = lengthend_df.drop('index', axis=1)"
   ]
  },
  {
   "cell_type": "code",
   "execution_count": 20,
   "metadata": {
    "collapsed": true
   },
   "outputs": [],
   "source": [
    "# reset the columns for something easier to use with D3\n",
    "lengthend_df.columns = ['yoa', 'country', 'gender', 'perc']"
   ]
  },
  {
   "cell_type": "code",
   "execution_count": 21,
   "metadata": {},
   "outputs": [
    {
     "data": {
      "text/plain": [
       "1.0"
      ]
     },
     "execution_count": 21,
     "metadata": {},
     "output_type": "execute_result"
    }
   ],
   "source": [
    "# Test that year/gender combos adds up to 1\n",
    "lengthend_df[(lengthend_df['yoa'] == 2011) & (lengthend_df['gender'] == 'F')]['perc'].sum()"
   ]
  },
  {
   "cell_type": "code",
   "execution_count": 22,
   "metadata": {
    "collapsed": true
   },
   "outputs": [],
   "source": [
    "# Round out the percents\n",
    "lengthend_df['perc'] = lengthend_df['perc'].apply(lambda x: round(x, 4))"
   ]
  },
  {
   "cell_type": "code",
   "execution_count": 23,
   "metadata": {
    "scrolled": true
   },
   "outputs": [
    {
     "data": {
      "text/html": [
       "<div>\n",
       "<style>\n",
       "    .dataframe thead tr:only-child th {\n",
       "        text-align: right;\n",
       "    }\n",
       "\n",
       "    .dataframe thead th {\n",
       "        text-align: left;\n",
       "    }\n",
       "\n",
       "    .dataframe tbody tr th {\n",
       "        vertical-align: top;\n",
       "    }\n",
       "</style>\n",
       "<table border=\"1\" class=\"dataframe\">\n",
       "  <thead>\n",
       "    <tr style=\"text-align: right;\">\n",
       "      <th></th>\n",
       "      <th>yoa</th>\n",
       "      <th>country</th>\n",
       "      <th>gender</th>\n",
       "      <th>perc</th>\n",
       "    </tr>\n",
       "  </thead>\n",
       "  <tbody>\n",
       "    <tr>\n",
       "      <th>0</th>\n",
       "      <td>2006</td>\n",
       "      <td>AJ</td>\n",
       "      <td>F</td>\n",
       "      <td>0.0182</td>\n",
       "    </tr>\n",
       "    <tr>\n",
       "      <th>1</th>\n",
       "      <td>2006</td>\n",
       "      <td>BM</td>\n",
       "      <td>F</td>\n",
       "      <td>0.0545</td>\n",
       "    </tr>\n",
       "    <tr>\n",
       "      <th>2</th>\n",
       "      <td>2006</td>\n",
       "      <td>CU</td>\n",
       "      <td>F</td>\n",
       "      <td>0.2000</td>\n",
       "    </tr>\n",
       "    <tr>\n",
       "      <th>3</th>\n",
       "      <td>2006</td>\n",
       "      <td>HA</td>\n",
       "      <td>F</td>\n",
       "      <td>0.0364</td>\n",
       "    </tr>\n",
       "    <tr>\n",
       "      <th>4</th>\n",
       "      <td>2006</td>\n",
       "      <td>ID</td>\n",
       "      <td>F</td>\n",
       "      <td>0.0182</td>\n",
       "    </tr>\n",
       "  </tbody>\n",
       "</table>\n",
       "</div>"
      ],
      "text/plain": [
       "    yoa country gender    perc\n",
       "0  2006      AJ      F  0.0182\n",
       "1  2006      BM      F  0.0545\n",
       "2  2006      CU      F  0.2000\n",
       "3  2006      HA      F  0.0364\n",
       "4  2006      ID      F  0.0182"
      ]
     },
     "execution_count": 23,
     "metadata": {},
     "output_type": "execute_result"
    }
   ],
   "source": [
    "lengthend_df.head()"
   ]
  },
  {
   "cell_type": "markdown",
   "metadata": {},
   "source": [
    "#### Find countries that are missing in the lookup table"
   ]
  },
  {
   "cell_type": "code",
   "execution_count": 24,
   "metadata": {
    "collapsed": true
   },
   "outputs": [],
   "source": [
    "# For now we just give them random year within that range for where the label will go\n",
    "# Once we view the graph, we can update it by trial and error\n",
    "updated_lookup = {}\n",
    "for k, v in new_lookup.items():\n",
    "    yr = random.choice(seq=[i for i in range(2007, 2017)])\n",
    "    updated_lookup[k] = {'descrip': '', 'name': v, 'xlab': yr}"
   ]
  },
  {
   "cell_type": "markdown",
   "metadata": {},
   "source": [
    "After some trial and error..."
   ]
  },
  {
   "cell_type": "code",
   "execution_count": 25,
   "metadata": {
    "collapsed": true
   },
   "outputs": [],
   "source": [
    "# these are countries that have enough room for labels in the visualization\n",
    "# Only discovered after lots of testing\n",
    "label_countries = [\n",
    "    'Burma', 'Thailand', 'Iran', 'Bhutan', 'Iraq', 'Somalia', 'Afghanistan', 'Dem Republic of the Congo',\n",
    "    'Tanzania', 'Congo'\n",
    "]\n",
    "countries_with_positions = {'AF': {'include': 1, 'year': 2016},\n",
    " 'BM': {'include': 1, 'year': 2010},\n",
    " 'BT': {'include': 1, 'year': 2010},\n",
    " 'CG': {'include': 1, 'year': 2013},\n",
    " 'CU': {'include': 1, 'year': 2016},\n",
    " 'DC': {'include': 1, 'year': 2016},\n",
    " 'ET': {'include': 1, 'year': 2015},\n",
    " 'IR': {'include': 1, 'year': 2007},\n",
    " 'IZ': {'include': 1, 'year': 2013},\n",
    " 'KE': {'include': 1, 'year': 2009},\n",
    " 'NP': {'include': 1, 'year': 2012},\n",
    " 'RW': {'include': 1, 'year': 2016},\n",
    " 'SO': {'include': 1, 'year': 2012},\n",
    " 'TH': {'include': 1, 'year': 2011},\n",
    " 'TZ': {'include': 1, 'year': 2016},\n",
    " 'UG': {'include': 1, 'year': 2016}}"
   ]
  },
  {
   "cell_type": "code",
   "execution_count": 26,
   "metadata": {
    "collapsed": true
   },
   "outputs": [],
   "source": [
    "# so we can update these values here\n",
    "updated_updated_lookup = {}\n",
    "for k, v in updated_lookup.items():\n",
    "    if k in countries_with_positions.keys():\n",
    "        v['include'] = 1\n",
    "        v['xlab'] = countries_with_positions.get(k)['year']\n",
    "    else:\n",
    "        v['include'] = 0\n",
    "    updated_updated_lookup[k] = v"
   ]
  },
  {
   "cell_type": "code",
   "execution_count": 27,
   "metadata": {},
   "outputs": [
    {
     "data": {
      "text/plain": [
       "{'descrip': '', 'include': 1, 'name': 'Kenya', 'xlab': 2009}"
      ]
     },
     "execution_count": 27,
     "metadata": {},
     "output_type": "execute_result"
    }
   ],
   "source": [
    "updated_updated_lookup['KE']"
   ]
  },
  {
   "cell_type": "markdown",
   "metadata": {},
   "source": [
    "^^^^ This dictionary gets referenced in the `refugees.html` script as the `var places_meta` variable."
   ]
  },
  {
   "cell_type": "markdown",
   "metadata": {},
   "source": [
    "Find countries that aren't in the lookup table"
   ]
  },
  {
   "cell_type": "code",
   "execution_count": 28,
   "metadata": {
    "collapsed": true
   },
   "outputs": [],
   "source": [
    "# Countries with data\n",
    "current_countries = set(lengthend_df['country'].tolist())"
   ]
  },
  {
   "cell_type": "code",
   "execution_count": 29,
   "metadata": {
    "collapsed": true
   },
   "outputs": [],
   "source": [
    "# Countries available in the lookup table\n",
    "lookup_values = list(updated_updated_lookup.keys())"
   ]
  },
  {
   "cell_type": "code",
   "execution_count": 30,
   "metadata": {},
   "outputs": [
    {
     "data": {
      "text/plain": [
       "['GM', 'IT']"
      ]
     },
     "execution_count": 30,
     "metadata": {},
     "output_type": "execute_result"
    }
   ],
   "source": [
    "# Which countries are not included in the lookup table\n",
    "# we'll have to filter them out\n",
    "[c for c in current_countries if c not in lookup_values]"
   ]
  },
  {
   "cell_type": "markdown",
   "metadata": {},
   "source": [
    "Filter out missing countries"
   ]
  },
  {
   "cell_type": "code",
   "execution_count": 31,
   "metadata": {
    "collapsed": true
   },
   "outputs": [],
   "source": [
    "# Filter out missing countries\n",
    "lengthend_df = lengthend_df[~lengthend_df['country'].isin(['GM', 'IT'])]"
   ]
  },
  {
   "cell_type": "markdown",
   "metadata": {},
   "source": [
    "Sort the values so the colors match up by country and gender"
   ]
  },
  {
   "cell_type": "code",
   "execution_count": 32,
   "metadata": {
    "collapsed": true
   },
   "outputs": [],
   "source": [
    "# Important step - sort so colors match up\n",
    "finaldf = lengthend_df.sort_values(['yoa', 'country', 'gender']).reset_index(drop=True)"
   ]
  },
  {
   "cell_type": "code",
   "execution_count": 34,
   "metadata": {
    "scrolled": true
   },
   "outputs": [],
   "source": [
    "finaldf.to_csv('utah_refugees/visuals/countries.tsv', index=False, sep='\\t')"
   ]
  },
  {
   "cell_type": "code",
   "execution_count": null,
   "metadata": {
    "collapsed": true
   },
   "outputs": [],
   "source": []
  }
 ],
 "metadata": {
  "kernelspec": {
   "display_name": "Python 3",
   "language": "python",
   "name": "python3"
  },
  "language_info": {
   "codemirror_mode": {
    "name": "ipython",
    "version": 3
   },
   "file_extension": ".py",
   "mimetype": "text/x-python",
   "name": "python",
   "nbconvert_exporter": "python",
   "pygments_lexer": "ipython3",
   "version": "3.6.0"
  }
 },
 "nbformat": 4,
 "nbformat_minor": 2
}
